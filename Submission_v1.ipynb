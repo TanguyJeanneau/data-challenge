{
  "nbformat": 4,
  "nbformat_minor": 0,
  "metadata": {
    "kernelspec": {
      "name": "python3",
      "display_name": "Python 3"
    },
    "language_info": {
      "codemirror_mode": {
        "name": "ipython",
        "version": 3
      },
      "file_extension": ".py",
      "mimetype": "text/x-python",
      "name": "python",
      "nbconvert_exporter": "python",
      "pygments_lexer": "ipython3",
      "version": "3.7.5"
    },
    "colab": {
      "name": "Copie de Hand_Gesture_Recognition.ipynb",
      "provenance": []
    },
    "accelerator": "GPU"
  },
  "cells": [
    {
      "cell_type": "code",
      "metadata": {
        "id": "7SknZDgonQEq",
        "colab_type": "code",
        "colab": {}
      },
      "source": [
        "import tensorflow as tf\n",
        "import numpy as np\n",
        "import sklearn\n",
        "import pandas\n",
        "import matplotlib.pyplot as plt"
      ],
      "execution_count": 0,
      "outputs": []
    },
    {
      "cell_type": "code",
      "metadata": {
        "id": "AkCjpM56n3A4",
        "colab_type": "code",
        "colab": {}
      },
      "source": [
        "import numpy as np\n",
        "from scipy import misc\n",
        "import os\n",
        "import matplotlib.pyplot as plt\n",
        "import csv\n",
        "def read_csv_infos(file):\n",
        "\n",
        "\tidx = []\n",
        "\tlabels = []\n",
        "\tsizesequences = []\n",
        "\n",
        "\twith open(file, 'r') as f:\n",
        "\t\tdata = csv.reader(f, delimiter=' ')\n",
        "\t\tfor d in data:\n",
        "\t\t\tj = d[0].split(',')\n",
        "\t\t\tidx.append(int(j[0]))\n",
        "\t\t\tlabels.append(int(j[1]))\n",
        "\t\t\tsizesequences.append(int(j[2]))\n",
        "\n",
        "\treturn idx, labels, sizesequences"
      ],
      "execution_count": 0,
      "outputs": []
    },
    {
      "cell_type": "code",
      "metadata": {
        "id": "Nc4ugSh_n-eu",
        "colab_type": "code",
        "colab": {}
      },
      "source": [
        "def read_csv_skeleton(file, dim_joints):\n",
        "\n",
        "\tn = []\n",
        "\tn_samples = 0\n",
        "\tn_frames = 0\n",
        "\twith open(file, 'r') as f:\n",
        "\t\tdata = csv.reader(f, delimiter=' ')\n",
        "\t\tfor d in data:\n",
        "\t\t\tn_samples += 1\n",
        "\t\t\tn_frames=0\n",
        "\t\t\tfor j in d[0].split(','):\n",
        "\t\t\t\tn.append(float(j))\n",
        "\t\t\t\tn_frames += 1\n",
        "    # convert data in numpy array\n",
        "\tn = np.asarray(n)\n",
        "\tn = np.reshape(n, (n_samples, n_frames//(22*dim_joints), 22, dim_joints))\n",
        "\treturn n"
      ],
      "execution_count": 0,
      "outputs": []
    },
    {
      "cell_type": "code",
      "metadata": {
        "id": "rc04nMR6oR6m",
        "colab_type": "code",
        "colab": {
          "base_uri": "https://localhost:8080/",
          "height": 34
        },
        "outputId": "01e65ca3-8244-4e10-a947-d1fd51b371b4"
      },
      "source": [
        "from google.colab import drive\n",
        "drive.mount('/content/gdrive')"
      ],
      "execution_count": 44,
      "outputs": [
        {
          "output_type": "stream",
          "text": [
            "Drive already mounted at /content/gdrive; to attempt to forcibly remount, call drive.mount(\"/content/gdrive\", force_remount=True).\n"
          ],
          "name": "stdout"
        }
      ]
    },
    {
      "cell_type": "code",
      "metadata": {
        "id": "czs7dFI_nQEu",
        "colab_type": "code",
        "colab": {}
      },
      "source": [
        "skeletons2=read_csv_skeleton(\"/content/gdrive/My Drive/TPSs/data_challenge/skeletons_image_train.csv\",2)\n",
        "idx, labels, sequences=read_csv_infos(\"/content/gdrive/My Drive/TPSs/data_challenge/infos_train.csv\")"
      ],
      "execution_count": 0,
      "outputs": []
    },
    {
      "cell_type": "code",
      "metadata": {
        "id": "9yAxwbkMnQE0",
        "colab_type": "code",
        "outputId": "01dd0ec6-e270-4e4b-8c14-4768019eb299",
        "colab": {
          "base_uri": "https://localhost:8080/",
          "height": 34
        }
      },
      "source": [
        "skeletons2.shape"
      ],
      "execution_count": 46,
      "outputs": [
        {
          "output_type": "execute_result",
          "data": {
            "text/plain": [
              "(1960, 171, 22, 2)"
            ]
          },
          "metadata": {
            "tags": []
          },
          "execution_count": 46
        }
      ]
    },
    {
      "cell_type": "code",
      "metadata": {
        "id": "kddSYn3ZnQE4",
        "colab_type": "code",
        "colab": {}
      },
      "source": [
        "skeletons3=read_csv_skeleton(\"/content/gdrive/My Drive/TPSs/data_challenge/skeletons_world_train.csv\",3)"
      ],
      "execution_count": 0,
      "outputs": []
    },
    {
      "cell_type": "code",
      "metadata": {
        "id": "5WKYQoTKnQE8",
        "colab_type": "code",
        "outputId": "03be0b35-9431-47f4-9c12-2f31edf34239",
        "colab": {
          "base_uri": "https://localhost:8080/",
          "height": 34
        }
      },
      "source": [
        "skeletons3.shape"
      ],
      "execution_count": 48,
      "outputs": [
        {
          "output_type": "execute_result",
          "data": {
            "text/plain": [
              "(1960, 171, 22, 3)"
            ]
          },
          "metadata": {
            "tags": []
          },
          "execution_count": 48
        }
      ]
    },
    {
      "cell_type": "code",
      "metadata": {
        "id": "mcB9kcgonQFA",
        "colab_type": "code",
        "outputId": "5da68047-3b73-4dda-b0d1-5c1f792ef976",
        "colab": {
          "base_uri": "https://localhost:8080/",
          "height": 663
        }
      },
      "source": [
        "model = tf.keras.Sequential()\n",
        "\n",
        "# Must define the input shape in the first layer of the neural network\n",
        "model.add(tf.keras.layers.Conv2D(filters=32, kernel_size=(3, 3), padding=\"same\", \n",
        "          input_shape=(171,22,3), activation='relu'))\n",
        "\n",
        "model.add(tf.keras.layers.Conv2D(filters=64, kernel_size=(3, 3), padding=\"same\", activation='relu'))\n",
        "\n",
        "model.add(tf.keras.layers.MaxPooling2D(pool_size=(2,2)))\n",
        "model.add(tf.keras.layers.Dropout(0.5))\n",
        "\n",
        "model.add(tf.keras.layers.Conv2D(filters=128, kernel_size=(3,3), padding='same', activation='relu'))\n",
        "model.add(tf.keras.layers.Conv2D(filters=256, kernel_size=(3,3), padding='valid', activation='relu'))\n",
        "model.add(tf.keras.layers.MaxPooling2D(pool_size=(3,3)))\n",
        "model.add(tf.keras.layers.Dropout(0.5))\n",
        "\n",
        "model.add(tf.keras.layers.Flatten())\n",
        "model.add(tf.keras.layers.Dense(256))\n",
        "model.add(tf.keras.layers.LeakyReLU())\n",
        "model.add(tf.keras.layers.Dropout(0.5))\n",
        "model.add(tf.keras.layers.Dense(256))\n",
        "model.add(tf.keras.layers.LeakyReLU())\n",
        "model.add(tf.keras.layers.Dense(29, activation='softmax'))\n",
        "\n",
        "# Take a look at the model summary\n",
        "model.summary()"
      ],
      "execution_count": 57,
      "outputs": [
        {
          "output_type": "stream",
          "text": [
            "Model: \"sequential_5\"\n",
            "_________________________________________________________________\n",
            "Layer (type)                 Output Shape              Param #   \n",
            "=================================================================\n",
            "conv2d_20 (Conv2D)           (None, 171, 22, 32)       896       \n",
            "_________________________________________________________________\n",
            "conv2d_21 (Conv2D)           (None, 171, 22, 64)       18496     \n",
            "_________________________________________________________________\n",
            "max_pooling2d_10 (MaxPooling (None, 85, 11, 64)        0         \n",
            "_________________________________________________________________\n",
            "dropout_15 (Dropout)         (None, 85, 11, 64)        0         \n",
            "_________________________________________________________________\n",
            "conv2d_22 (Conv2D)           (None, 85, 11, 128)       73856     \n",
            "_________________________________________________________________\n",
            "conv2d_23 (Conv2D)           (None, 83, 9, 256)        295168    \n",
            "_________________________________________________________________\n",
            "max_pooling2d_11 (MaxPooling (None, 27, 3, 256)        0         \n",
            "_________________________________________________________________\n",
            "dropout_16 (Dropout)         (None, 27, 3, 256)        0         \n",
            "_________________________________________________________________\n",
            "flatten_5 (Flatten)          (None, 20736)             0         \n",
            "_________________________________________________________________\n",
            "dense_15 (Dense)             (None, 256)               5308672   \n",
            "_________________________________________________________________\n",
            "leaky_re_lu_10 (LeakyReLU)   (None, 256)               0         \n",
            "_________________________________________________________________\n",
            "dropout_17 (Dropout)         (None, 256)               0         \n",
            "_________________________________________________________________\n",
            "dense_16 (Dense)             (None, 256)               65792     \n",
            "_________________________________________________________________\n",
            "leaky_re_lu_11 (LeakyReLU)   (None, 256)               0         \n",
            "_________________________________________________________________\n",
            "dense_17 (Dense)             (None, 29)                7453      \n",
            "=================================================================\n",
            "Total params: 5,770,333\n",
            "Trainable params: 5,770,333\n",
            "Non-trainable params: 0\n",
            "_________________________________________________________________\n"
          ],
          "name": "stdout"
        }
      ]
    },
    {
      "cell_type": "code",
      "metadata": {
        "id": "Vw3tIjcpnQFD",
        "colab_type": "code",
        "colab": {}
      },
      "source": [
        "model.compile(loss='sparse_categorical_crossentropy',\n",
        "             optimizer='adam',\n",
        "             metrics=['accuracy'])"
      ],
      "execution_count": 0,
      "outputs": []
    },
    {
      "cell_type": "code",
      "metadata": {
        "id": "m4HgB_QfnQFF",
        "colab_type": "code",
        "colab": {}
      },
      "source": [
        "labels=np.array(labels)"
      ],
      "execution_count": 0,
      "outputs": []
    },
    {
      "cell_type": "code",
      "metadata": {
        "id": "tyjxMtQJvU1w",
        "colab_type": "code",
        "colab": {}
      },
      "source": [
        "\n",
        "x=skeletons3\n",
        "n=x.shape[0]\n",
        "y=labels\n",
        "selection=np.arange(n)\n",
        "np.random.shuffle(selection)\n",
        "subselection=selection[:int(n*0.6)]\n",
        "x_train=x[subselection]\n",
        "x_test=x[[i for i in np.arange(n) if i not in subselection]]\n",
        "y_train=y[subselection]\n",
        "y_test=y[[i for i in np.arange(n) if i not in subselection]]"
      ],
      "execution_count": 0,
      "outputs": []
    },
    {
      "cell_type": "code",
      "metadata": {
        "id": "lxnCpQz7nQFJ",
        "colab_type": "code",
        "outputId": "cf759491-751d-42a8-8fdc-9309b31ff7fe",
        "colab": {
          "base_uri": "https://localhost:8080/",
          "height": 1000
        }
      },
      "source": [
        "model.fit(x,\n",
        "         y,\n",
        "         epochs=40,\n",
        "          batch_size=64#,\n",
        "          #validation_data=(x_test, y_test)\n",
        "         )"
      ],
      "execution_count": 61,
      "outputs": [
        {
          "output_type": "stream",
          "text": [
            "Train on 1960 samples\n",
            "Epoch 1/40\n",
            "1960/1960 [==============================] - 3s 1ms/sample - loss: 3.2519 - acc: 0.0648\n",
            "Epoch 2/40\n",
            "1960/1960 [==============================] - 2s 1ms/sample - loss: 2.9760 - acc: 0.1082\n",
            "Epoch 3/40\n",
            "1960/1960 [==============================] - 3s 1ms/sample - loss: 2.7255 - acc: 0.1531\n",
            "Epoch 4/40\n",
            "1960/1960 [==============================] - 3s 1ms/sample - loss: 2.3844 - acc: 0.2291\n",
            "Epoch 5/40\n",
            "1960/1960 [==============================] - 3s 1ms/sample - loss: 2.1029 - acc: 0.3148\n",
            "Epoch 6/40\n",
            "1960/1960 [==============================] - 3s 1ms/sample - loss: 1.7963 - acc: 0.4061\n",
            "Epoch 7/40\n",
            "1960/1960 [==============================] - 3s 1ms/sample - loss: 1.5963 - acc: 0.4684\n",
            "Epoch 8/40\n",
            "1960/1960 [==============================] - 3s 1ms/sample - loss: 1.5057 - acc: 0.4990\n",
            "Epoch 9/40\n",
            "1960/1960 [==============================] - 3s 1ms/sample - loss: 1.3208 - acc: 0.5577\n",
            "Epoch 10/40\n",
            "1960/1960 [==============================] - 2s 1ms/sample - loss: 1.1795 - acc: 0.6036\n",
            "Epoch 11/40\n",
            "1960/1960 [==============================] - 2s 1ms/sample - loss: 1.0012 - acc: 0.6714\n",
            "Epoch 12/40\n",
            "1960/1960 [==============================] - 3s 1ms/sample - loss: 0.8877 - acc: 0.7010\n",
            "Epoch 13/40\n",
            "1960/1960 [==============================] - 2s 1ms/sample - loss: 0.8557 - acc: 0.7005\n",
            "Epoch 14/40\n",
            "1960/1960 [==============================] - 3s 1ms/sample - loss: 0.7577 - acc: 0.7459\n",
            "Epoch 15/40\n",
            "1960/1960 [==============================] - 3s 1ms/sample - loss: 0.6544 - acc: 0.7878\n",
            "Epoch 16/40\n",
            "1960/1960 [==============================] - 3s 1ms/sample - loss: 0.6436 - acc: 0.7862\n",
            "Epoch 17/40\n",
            "1960/1960 [==============================] - 3s 1ms/sample - loss: 0.6061 - acc: 0.7913\n",
            "Epoch 18/40\n",
            "1960/1960 [==============================] - 2s 1ms/sample - loss: 0.5351 - acc: 0.8148\n",
            "Epoch 19/40\n",
            "1960/1960 [==============================] - 3s 1ms/sample - loss: 0.4989 - acc: 0.8337\n",
            "Epoch 20/40\n",
            "1960/1960 [==============================] - 3s 1ms/sample - loss: 0.4891 - acc: 0.8316\n",
            "Epoch 21/40\n",
            "1960/1960 [==============================] - 3s 1ms/sample - loss: 0.5029 - acc: 0.8240\n",
            "Epoch 22/40\n",
            "1960/1960 [==============================] - 3s 1ms/sample - loss: 0.3857 - acc: 0.8551\n",
            "Epoch 23/40\n",
            "1960/1960 [==============================] - 2s 1ms/sample - loss: 0.3710 - acc: 0.8755\n",
            "Epoch 24/40\n",
            "1960/1960 [==============================] - 2s 1ms/sample - loss: 0.3780 - acc: 0.8709\n",
            "Epoch 25/40\n",
            "1960/1960 [==============================] - 2s 1ms/sample - loss: 0.4157 - acc: 0.8510\n",
            "Epoch 26/40\n",
            "1960/1960 [==============================] - 3s 1ms/sample - loss: 0.3762 - acc: 0.8714\n",
            "Epoch 27/40\n",
            "1960/1960 [==============================] - 3s 1ms/sample - loss: 0.3258 - acc: 0.8862\n",
            "Epoch 28/40\n",
            "1960/1960 [==============================] - 3s 1ms/sample - loss: 0.3058 - acc: 0.8929\n",
            "Epoch 29/40\n",
            "1960/1960 [==============================] - 2s 1ms/sample - loss: 0.3079 - acc: 0.8995\n",
            "Epoch 30/40\n",
            "1960/1960 [==============================] - 3s 1ms/sample - loss: 0.2906 - acc: 0.9026\n",
            "Epoch 31/40\n",
            "1960/1960 [==============================] - 3s 1ms/sample - loss: 0.2579 - acc: 0.9097\n",
            "Epoch 32/40\n",
            "1960/1960 [==============================] - 2s 1ms/sample - loss: 0.2835 - acc: 0.9082\n",
            "Epoch 33/40\n",
            "1960/1960 [==============================] - 2s 1ms/sample - loss: 0.2335 - acc: 0.9153\n",
            "Epoch 34/40\n",
            "1960/1960 [==============================] - 2s 1ms/sample - loss: 0.2978 - acc: 0.8954\n",
            "Epoch 35/40\n",
            "1960/1960 [==============================] - 2s 1ms/sample - loss: 0.2755 - acc: 0.9026\n",
            "Epoch 36/40\n",
            "1960/1960 [==============================] - 2s 1ms/sample - loss: 0.2460 - acc: 0.9184\n",
            "Epoch 37/40\n",
            "1960/1960 [==============================] - 2s 1ms/sample - loss: 0.2419 - acc: 0.9153\n",
            "Epoch 38/40\n",
            "1960/1960 [==============================] - 2s 1ms/sample - loss: 0.2096 - acc: 0.9270\n",
            "Epoch 39/40\n",
            "1960/1960 [==============================] - 2s 1ms/sample - loss: 0.2150 - acc: 0.9240\n",
            "Epoch 40/40\n",
            "1960/1960 [==============================] - 2s 1ms/sample - loss: 0.2102 - acc: 0.9281\n"
          ],
          "name": "stdout"
        },
        {
          "output_type": "execute_result",
          "data": {
            "text/plain": [
              "<tensorflow.python.keras.callbacks.History at 0x7f87d0e11ac8>"
            ]
          },
          "metadata": {
            "tags": []
          },
          "execution_count": 61
        }
      ]
    },
    {
      "cell_type": "code",
      "metadata": {
        "id": "S9_zNYkDnQFU",
        "colab_type": "code",
        "colab": {
          "base_uri": "https://localhost:8080/",
          "height": 51
        },
        "outputId": "bb890abc-0212-49ee-9846-b5b9d975d8cd"
      },
      "source": [
        "model.evaluate(x_test,y_test)"
      ],
      "execution_count": 54,
      "outputs": [
        {
          "output_type": "stream",
          "text": [
            "784/784 [==============================] - 0s 562us/sample - loss: 1.4587 - acc: 0.7385\n"
          ],
          "name": "stdout"
        },
        {
          "output_type": "execute_result",
          "data": {
            "text/plain": [
              "[1.4586967762027467, 0.7385204]"
            ]
          },
          "metadata": {
            "tags": []
          },
          "execution_count": 54
        }
      ]
    },
    {
      "cell_type": "code",
      "metadata": {
        "id": "-CjItpvKvDSV",
        "colab_type": "code",
        "colab": {}
      },
      "source": [
        "evaluation_data = read_csv_skeleton(\"/content/gdrive/My Drive/TPSs/data_challenge/skeletons_world_test.csv\",3)"
      ],
      "execution_count": 0,
      "outputs": []
    },
    {
      "cell_type": "code",
      "metadata": {
        "id": "3EvfB8-h24ib",
        "colab_type": "code",
        "colab": {
          "base_uri": "https://localhost:8080/",
          "height": 51
        },
        "outputId": "d92a22d9-5775-49c7-cd2f-0308ce8854bc"
      },
      "source": [
        "print(evaluation_data.shape)\n",
        "print(skeletons3.shape)"
      ],
      "execution_count": 69,
      "outputs": [
        {
          "output_type": "stream",
          "text": [
            "(840, 162, 22, 3)\n",
            "(1960, 171, 22, 3)\n"
          ],
          "name": "stdout"
        }
      ]
    },
    {
      "cell_type": "code",
      "metadata": {
        "id": "pDVmSImE3F-h",
        "colab_type": "code",
        "colab": {
          "base_uri": "https://localhost:8080/",
          "height": 317
        },
        "outputId": "a5b8199a-1fd0-486c-f242-83be5a7dfcfe"
      },
      "source": [
        "np.pad(evaluation_data, pad_width=9, constant_values=0, axis=1)"
      ],
      "execution_count": 73,
      "outputs": [
        {
          "output_type": "error",
          "ename": "ValueError",
          "evalue": "ignored",
          "traceback": [
            "\u001b[0;31m---------------------------------------------------------------------------\u001b[0m",
            "\u001b[0;31mValueError\u001b[0m                                Traceback (most recent call last)",
            "\u001b[0;32m<ipython-input-73-81a7f66294e5>\u001b[0m in \u001b[0;36m<module>\u001b[0;34m()\u001b[0m\n\u001b[0;32m----> 1\u001b[0;31m \u001b[0mnp\u001b[0m\u001b[0;34m.\u001b[0m\u001b[0mpad\u001b[0m\u001b[0;34m(\u001b[0m\u001b[0mevaluation_data\u001b[0m\u001b[0;34m,\u001b[0m \u001b[0mpad_width\u001b[0m\u001b[0;34m=\u001b[0m\u001b[0;36m9\u001b[0m\u001b[0;34m,\u001b[0m \u001b[0mconstant_values\u001b[0m\u001b[0;34m=\u001b[0m\u001b[0;36m0\u001b[0m\u001b[0;34m,\u001b[0m \u001b[0maxis\u001b[0m\u001b[0;34m=\u001b[0m\u001b[0;36m1\u001b[0m\u001b[0;34m)\u001b[0m\u001b[0;34m\u001b[0m\u001b[0;34m\u001b[0m\u001b[0m\n\u001b[0m",
            "\u001b[0;32m<__array_function__ internals>\u001b[0m in \u001b[0;36mpad\u001b[0;34m(*args, **kwargs)\u001b[0m\n",
            "\u001b[0;32m/usr/local/lib/python3.6/dist-packages/numpy/lib/arraypad.py\u001b[0m in \u001b[0;36mpad\u001b[0;34m(array, pad_width, mode, **kwargs)\u001b[0m\n\u001b[1;32m    782\u001b[0m     \u001b[0;32mif\u001b[0m \u001b[0munsupported_kwargs\u001b[0m\u001b[0;34m:\u001b[0m\u001b[0;34m\u001b[0m\u001b[0;34m\u001b[0m\u001b[0m\n\u001b[1;32m    783\u001b[0m         raise ValueError(\"unsupported keyword arguments for mode '{}': {}\"\n\u001b[0;32m--> 784\u001b[0;31m                          .format(mode, unsupported_kwargs))\n\u001b[0m\u001b[1;32m    785\u001b[0m \u001b[0;34m\u001b[0m\u001b[0m\n\u001b[1;32m    786\u001b[0m     stat_functions = {\"maximum\": np.max, \"minimum\": np.min,\n",
            "\u001b[0;31mValueError\u001b[0m: unsupported keyword arguments for mode 'constant': {'axis'}"
          ]
        }
      ]
    },
    {
      "cell_type": "code",
      "metadata": {
        "id": "4VdK0hef3LbA",
        "colab_type": "code",
        "colab": {}
      },
      "source": [
        "model.predict(evaluation_data)"
      ],
      "execution_count": 0,
      "outputs": []
    }
  ]
}