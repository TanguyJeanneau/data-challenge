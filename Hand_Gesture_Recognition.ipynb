{
 "cells": [
  {
   "cell_type": "code",
   "execution_count": 1,
   "metadata": {},
   "outputs": [],
   "source": [
    "import tensorflow as tf\n",
    "import numpy as np\n",
    "import sklearn\n",
    "import data.load_and_display_data as load\n",
    "import pandas\n",
    "import matplotlib.pyplot as plt"
   ]
  },
  {
   "cell_type": "code",
   "execution_count": 7,
   "metadata": {},
   "outputs": [],
   "source": [
    "skeletons2=load.read_csv_skeleton(\"./data/odhgdata/skeletons_image_train.csv\",2)\n",
    "idx, labels, sequences=load.read_csv_infos(\"./data/odhgdata/infos_train.csv\")"
   ]
  },
  {
   "cell_type": "code",
   "execution_count": 5,
   "metadata": {},
   "outputs": [],
   "source": [
    "#load.diplay_skeleton(skeletons2[6], sequences[6])"
   ]
  },
  {
   "cell_type": "code",
   "execution_count": 8,
   "metadata": {},
   "outputs": [
    {
     "data": {
      "text/plain": [
       "(1960, 171, 22, 2)"
      ]
     },
     "execution_count": 8,
     "metadata": {},
     "output_type": "execute_result"
    }
   ],
   "source": [
    "skeletons2.shape"
   ]
  },
  {
   "cell_type": "code",
   "execution_count": 10,
   "metadata": {},
   "outputs": [],
   "source": [
    "skeletons3=load.read_csv_skeleton(\"./data/odhgdata/skeletons_world_train.csv\",3)"
   ]
  },
  {
   "cell_type": "code",
   "execution_count": 11,
   "metadata": {},
   "outputs": [
    {
     "data": {
      "text/plain": [
       "(1960, 171, 22, 3)"
      ]
     },
     "execution_count": 11,
     "metadata": {},
     "output_type": "execute_result"
    }
   ],
   "source": [
    "skeletons3.shape"
   ]
  },
  {
   "cell_type": "code",
   "execution_count": 37,
   "metadata": {},
   "outputs": [
    {
     "name": "stdout",
     "output_type": "stream",
     "text": [
      "Model: \"sequential_4\"\n",
      "_________________________________________________________________\n",
      "Layer (type)                 Output Shape              Param #   \n",
      "=================================================================\n",
      "conv2d_13 (Conv2D)           (None, 171, 22, 32)       896       \n",
      "_________________________________________________________________\n",
      "conv2d_14 (Conv2D)           (None, 171, 22, 64)       18496     \n",
      "_________________________________________________________________\n",
      "max_pooling2d_6 (MaxPooling2 (None, 85, 11, 64)        0         \n",
      "_________________________________________________________________\n",
      "dropout_9 (Dropout)          (None, 85, 11, 64)        0         \n",
      "_________________________________________________________________\n",
      "conv2d_15 (Conv2D)           (None, 85, 11, 128)       73856     \n",
      "_________________________________________________________________\n",
      "conv2d_16 (Conv2D)           (None, 83, 9, 256)        295168    \n",
      "_________________________________________________________________\n",
      "max_pooling2d_7 (MaxPooling2 (None, 27, 3, 256)        0         \n",
      "_________________________________________________________________\n",
      "dropout_10 (Dropout)         (None, 27, 3, 256)        0         \n",
      "_________________________________________________________________\n",
      "flatten_3 (Flatten)          (None, 20736)             0         \n",
      "_________________________________________________________________\n",
      "dense_9 (Dense)              (None, 256)               5308672   \n",
      "_________________________________________________________________\n",
      "leaky_re_lu_6 (LeakyReLU)    (None, 256)               0         \n",
      "_________________________________________________________________\n",
      "dropout_11 (Dropout)         (None, 256)               0         \n",
      "_________________________________________________________________\n",
      "dense_10 (Dense)             (None, 256)               65792     \n",
      "_________________________________________________________________\n",
      "leaky_re_lu_7 (LeakyReLU)    (None, 256)               0         \n",
      "_________________________________________________________________\n",
      "dense_11 (Dense)             (None, 29)                7453      \n",
      "=================================================================\n",
      "Total params: 5,770,333\n",
      "Trainable params: 5,770,333\n",
      "Non-trainable params: 0\n",
      "_________________________________________________________________\n"
     ]
    }
   ],
   "source": [
    "model = tf.keras.Sequential()\n",
    "\n",
    "# Must define the input shape in the first layer of the neural network\n",
    "model.add(tf.keras.layers.Conv2D(filters=32, kernel_size=(3, 3), padding=\"same\", \n",
    "          input_shape=(171,22,3), activation='relu'))\n",
    "\n",
    "model.add(tf.keras.layers.Conv2D(filters=64, kernel_size=(3, 3), padding=\"same\", activation='relu'))\n",
    "\n",
    "model.add(tf.keras.layers.MaxPooling2D(pool_size=(2,2)))\n",
    "model.add(tf.keras.layers.Dropout(0.5))\n",
    "\n",
    "model.add(tf.keras.layers.Conv2D(filters=128, kernel_size=(3,3), padding='same', activation='relu'))\n",
    "model.add(tf.keras.layers.Conv2D(filters=256, kernel_size=(3,3), padding='valid', activation='relu'))\n",
    "model.add(tf.keras.layers.MaxPooling2D(pool_size=(3,3)))\n",
    "model.add(tf.keras.layers.Dropout(0.5))\n",
    "\n",
    "model.add(tf.keras.layers.Flatten())\n",
    "model.add(tf.keras.layers.Dense(256))\n",
    "model.add(tf.keras.layers.LeakyReLU())\n",
    "model.add(tf.keras.layers.Dropout(0.5))\n",
    "model.add(tf.keras.layers.Dense(256))\n",
    "model.add(tf.keras.layers.LeakyReLU())\n",
    "model.add(tf.keras.layers.Dense(29, activation='softmax'))\n",
    "\n",
    "# Take a look at the model summary\n",
    "model.summary()"
   ]
  },
  {
   "cell_type": "code",
   "execution_count": 38,
   "metadata": {},
   "outputs": [],
   "source": [
    "model.compile(loss='sparse_categorical_crossentropy',\n",
    "             optimizer='adam',\n",
    "             metrics=['accuracy'])"
   ]
  },
  {
   "cell_type": "code",
   "execution_count": 39,
   "metadata": {},
   "outputs": [],
   "source": [
    "labels=np.array(labels)"
   ]
  },
  {
   "cell_type": "code",
   "execution_count": 41,
   "metadata": {},
   "outputs": [
    {
     "name": "stdout",
     "output_type": "stream",
     "text": [
      "Train on 1960 samples\n",
      "Epoch 1/10\n",
      "1960/1960 [==============================] - 60s 31ms/sample - loss: 2.1772 - accuracy: 0.3112\n",
      "Epoch 2/10\n",
      "1960/1960 [==============================] - 63s 32ms/sample - loss: 1.8030 - accuracy: 0.4168\n",
      "Epoch 3/10\n",
      "1960/1960 [==============================] - 63s 32ms/sample - loss: 1.5070 - accuracy: 0.5061\n",
      "Epoch 4/10\n",
      "1960/1960 [==============================] - 72s 37ms/sample - loss: 1.3896 - accuracy: 0.5505\n",
      "Epoch 5/10\n",
      "1960/1960 [==============================] - 63s 32ms/sample - loss: 1.1797 - accuracy: 0.6117\n",
      "Epoch 6/10\n",
      "1960/1960 [==============================] - 57s 29ms/sample - loss: 1.0818 - accuracy: 0.6454\n",
      "Epoch 7/10\n",
      "1960/1960 [==============================] - 63s 32ms/sample - loss: 1.0025 - accuracy: 0.6643\n",
      "Epoch 8/10\n",
      "1960/1960 [==============================] - 79s 40ms/sample - loss: 0.9357 - accuracy: 0.6781\n",
      "Epoch 9/10\n",
      "1960/1960 [==============================] - 69s 35ms/sample - loss: 0.8625 - accuracy: 0.7102\n",
      "Epoch 10/10\n",
      "1960/1960 [==============================] - 63s 32ms/sample - loss: 0.7615 - accuracy: 0.7444\n"
     ]
    },
    {
     "data": {
      "text/plain": [
       "<tensorflow.python.keras.callbacks.History at 0x1a3c4f8bd0>"
      ]
     },
     "execution_count": 41,
     "metadata": {},
     "output_type": "execute_result"
    }
   ],
   "source": [
    "model.fit(skeletons3,\n",
    "         labels,\n",
    "         epochs=10,\n",
    "          batch_size=64\n",
    "         )"
   ]
  },
  {
   "cell_type": "code",
   "execution_count": 18,
   "metadata": {},
   "outputs": [
    {
     "data": {
      "text/plain": [
       "numpy.ndarray"
      ]
     },
     "execution_count": 18,
     "metadata": {},
     "output_type": "execute_result"
    }
   ],
   "source": [
    "type(skeletons3)"
   ]
  },
  {
   "cell_type": "code",
   "execution_count": 31,
   "metadata": {},
   "outputs": [
    {
     "data": {
      "text/plain": [
       "(171, 22, 3)"
      ]
     },
     "execution_count": 31,
     "metadata": {},
     "output_type": "execute_result"
    }
   ],
   "source": [
    "skeletons3[326].shape"
   ]
  },
  {
   "cell_type": "code",
   "execution_count": 32,
   "metadata": {},
   "outputs": [
    {
     "data": {
      "text/plain": [
       "28"
      ]
     },
     "execution_count": 32,
     "metadata": {},
     "output_type": "execute_result"
    }
   ],
   "source": [
    "max(labels)"
   ]
  },
  {
   "cell_type": "code",
   "execution_count": null,
   "metadata": {},
   "outputs": [],
   "source": []
  }
 ],
 "metadata": {
  "kernelspec": {
   "display_name": "Python 3",
   "language": "python",
   "name": "python3"
  },
  "language_info": {
   "codemirror_mode": {
    "name": "ipython",
    "version": 3
   },
   "file_extension": ".py",
   "mimetype": "text/x-python",
   "name": "python",
   "nbconvert_exporter": "python",
   "pygments_lexer": "ipython3",
   "version": "3.7.5"
  }
 },
 "nbformat": 4,
 "nbformat_minor": 2
}
